{
 "cells": [
  {
   "cell_type": "code",
   "execution_count": 55,
   "metadata": {},
   "outputs": [
    {
     "name": "stdout",
     "output_type": "stream",
     "text": [
      "Collecting pypdf\n",
      "  Downloading pypdf-5.4.0-py3-none-any.whl.metadata (7.3 kB)\n",
      "Downloading pypdf-5.4.0-py3-none-any.whl (302 kB)\n",
      "Installing collected packages: pypdf\n",
      "Successfully installed pypdf-5.4.0\n",
      "Note: you may need to restart the kernel to use updated packages.\n"
     ]
    },
    {
     "name": "stderr",
     "output_type": "stream",
     "text": [
      "\n",
      "[notice] A new release of pip is available: 24.3.1 -> 25.0.1\n",
      "[notice] To update, run: python.exe -m pip install --upgrade pip\n"
     ]
    }
   ],
   "source": [
    "%pip install pypdf\n"
   ]
  },
  {
   "cell_type": "code",
   "execution_count": 56,
   "metadata": {},
   "outputs": [
    {
     "data": {
      "text/plain": [
       "'c:\\\\Users\\\\ual-laptop'"
      ]
     },
     "execution_count": 56,
     "metadata": {},
     "output_type": "execute_result"
    }
   ],
   "source": [
    "%pwd"
   ]
  },
  {
   "cell_type": "code",
   "execution_count": 57,
   "metadata": {},
   "outputs": [],
   "source": [
    "import os\n",
    "os.chdir(\"../\")"
   ]
  },
  {
   "cell_type": "code",
   "execution_count": 58,
   "metadata": {},
   "outputs": [
    {
     "data": {
      "text/plain": [
       "'c:\\\\Users'"
      ]
     },
     "execution_count": 58,
     "metadata": {},
     "output_type": "execute_result"
    }
   ],
   "source": [
    "%pwd"
   ]
  },
  {
   "cell_type": "code",
   "execution_count": 59,
   "metadata": {},
   "outputs": [],
   "source": [
    "from langchain.document_loaders import PyPDFLoader, DirectoryLoader \n",
    "from langchain.text_splitter import RecursiveCharacterTextSplitter\n",
    "from langchain_community.embeddings import HuggingFaceEmbeddings"
   ]
  },
  {
   "cell_type": "code",
   "execution_count": 60,
   "metadata": {},
   "outputs": [],
   "source": [
    "def load_pdf_file(data):\n",
    "    loader = DirectoryLoader(data, glob=\"*.pdf\",loader_cls=PyPDFLoader)\n",
    "    documents = loader.load()\n",
    "    return documents"
   ]
  },
  {
   "cell_type": "code",
   "execution_count": 61,
   "metadata": {},
   "outputs": [
    {
     "ename": "KeyboardInterrupt",
     "evalue": "",
     "output_type": "error",
     "traceback": [
      "\u001b[31m---------------------------------------------------------------------------\u001b[39m",
      "\u001b[31mKeyboardInterrupt\u001b[39m                         Traceback (most recent call last)",
      "\u001b[36mCell\u001b[39m\u001b[36m \u001b[39m\u001b[32mIn[61]\u001b[39m\u001b[32m, line 1\u001b[39m\n\u001b[32m----> \u001b[39m\u001b[32m1\u001b[39m extracted_data=\u001b[43mload_pdf_file\u001b[49m\u001b[43m(\u001b[49m\u001b[43mdata\u001b[49m\u001b[43m=\u001b[49m\u001b[33;43m'\u001b[39;49m\u001b[33;43mC:/Users/ual-laptop/AI&XRStudio/New/SanoCare-AIHealthAssistant/Data/\u001b[39;49m\u001b[33;43m'\u001b[39;49m\u001b[43m)\u001b[49m\n",
      "\u001b[36mCell\u001b[39m\u001b[36m \u001b[39m\u001b[32mIn[60]\u001b[39m\u001b[32m, line 3\u001b[39m, in \u001b[36mload_pdf_file\u001b[39m\u001b[34m(data)\u001b[39m\n\u001b[32m      1\u001b[39m \u001b[38;5;28;01mdef\u001b[39;00m\u001b[38;5;250m \u001b[39m\u001b[34mload_pdf_file\u001b[39m(data):\n\u001b[32m      2\u001b[39m     loader = DirectoryLoader(data, glob=\u001b[33m\"\u001b[39m\u001b[33m*.pdf\u001b[39m\u001b[33m\"\u001b[39m,loader_cls=PyPDFLoader)\n\u001b[32m----> \u001b[39m\u001b[32m3\u001b[39m     documents = \u001b[43mloader\u001b[49m\u001b[43m.\u001b[49m\u001b[43mload\u001b[49m\u001b[43m(\u001b[49m\u001b[43m)\u001b[49m\n\u001b[32m      4\u001b[39m     \u001b[38;5;28;01mreturn\u001b[39;00m documents\n",
      "\u001b[36mFile \u001b[39m\u001b[32mc:\\Users\\ual-laptop\\AI&XRStudio\\New\\SanoCare-AIHealthAssistant\\venv\\Lib\\site-packages\\langchain_community\\document_loaders\\directory.py:117\u001b[39m, in \u001b[36mDirectoryLoader.load\u001b[39m\u001b[34m(self)\u001b[39m\n\u001b[32m    115\u001b[39m \u001b[38;5;28;01mdef\u001b[39;00m\u001b[38;5;250m \u001b[39m\u001b[34mload\u001b[39m(\u001b[38;5;28mself\u001b[39m) -> List[Document]:\n\u001b[32m    116\u001b[39m \u001b[38;5;250m    \u001b[39m\u001b[33;03m\"\"\"Load documents.\"\"\"\u001b[39;00m\n\u001b[32m--> \u001b[39m\u001b[32m117\u001b[39m     \u001b[38;5;28;01mreturn\u001b[39;00m \u001b[38;5;28;43mlist\u001b[39;49m\u001b[43m(\u001b[49m\u001b[38;5;28;43mself\u001b[39;49m\u001b[43m.\u001b[49m\u001b[43mlazy_load\u001b[49m\u001b[43m(\u001b[49m\u001b[43m)\u001b[49m\u001b[43m)\u001b[49m\n",
      "\u001b[36mFile \u001b[39m\u001b[32mc:\\Users\\ual-laptop\\AI&XRStudio\\New\\SanoCare-AIHealthAssistant\\venv\\Lib\\site-packages\\langchain_community\\document_loaders\\directory.py:195\u001b[39m, in \u001b[36mDirectoryLoader.lazy_load\u001b[39m\u001b[34m(self)\u001b[39m\n\u001b[32m    193\u001b[39m \u001b[38;5;28;01melse\u001b[39;00m:\n\u001b[32m    194\u001b[39m     \u001b[38;5;28;01mfor\u001b[39;00m i \u001b[38;5;129;01min\u001b[39;00m items:\n\u001b[32m--> \u001b[39m\u001b[32m195\u001b[39m         \u001b[38;5;28;01myield from\u001b[39;00m \u001b[38;5;28mself\u001b[39m._lazy_load_file(i, p, pbar)\n\u001b[32m    197\u001b[39m \u001b[38;5;28;01mif\u001b[39;00m pbar:\n\u001b[32m    198\u001b[39m     pbar.close()\n",
      "\u001b[36mFile \u001b[39m\u001b[32mc:\\Users\\ual-laptop\\AI&XRStudio\\New\\SanoCare-AIHealthAssistant\\venv\\Lib\\site-packages\\langchain_community\\document_loaders\\directory.py:223\u001b[39m, in \u001b[36mDirectoryLoader._lazy_load_file\u001b[39m\u001b[34m(self, item, path, pbar)\u001b[39m\n\u001b[32m    221\u001b[39m loader = \u001b[38;5;28mself\u001b[39m.loader_cls(\u001b[38;5;28mstr\u001b[39m(item), **\u001b[38;5;28mself\u001b[39m.loader_kwargs)\n\u001b[32m    222\u001b[39m \u001b[38;5;28;01mtry\u001b[39;00m:\n\u001b[32m--> \u001b[39m\u001b[32m223\u001b[39m \u001b[43m    \u001b[49m\u001b[38;5;28;43;01mfor\u001b[39;49;00m\u001b[43m \u001b[49m\u001b[43msubdoc\u001b[49m\u001b[43m \u001b[49m\u001b[38;5;129;43;01min\u001b[39;49;00m\u001b[43m \u001b[49m\u001b[43mloader\u001b[49m\u001b[43m.\u001b[49m\u001b[43mlazy_load\u001b[49m\u001b[43m(\u001b[49m\u001b[43m)\u001b[49m\u001b[43m:\u001b[49m\n\u001b[32m    224\u001b[39m \u001b[43m        \u001b[49m\u001b[38;5;28;43;01myield\u001b[39;49;00m\u001b[43m \u001b[49m\u001b[43msubdoc\u001b[49m\n\u001b[32m    225\u001b[39m \u001b[38;5;28;01mexcept\u001b[39;00m \u001b[38;5;167;01mNotImplementedError\u001b[39;00m:\n",
      "\u001b[36mFile \u001b[39m\u001b[32mc:\\Users\\ual-laptop\\AI&XRStudio\\New\\SanoCare-AIHealthAssistant\\venv\\Lib\\site-packages\\langchain_community\\document_loaders\\pdf.py:307\u001b[39m, in \u001b[36mPyPDFLoader.lazy_load\u001b[39m\u001b[34m(self)\u001b[39m\n\u001b[32m    305\u001b[39m \u001b[38;5;28;01melse\u001b[39;00m:\n\u001b[32m    306\u001b[39m     blob = Blob.from_path(\u001b[38;5;28mself\u001b[39m.file_path)  \u001b[38;5;66;03m# type: ignore[attr-defined]\u001b[39;00m\n\u001b[32m--> \u001b[39m\u001b[32m307\u001b[39m \u001b[38;5;28;01myield from\u001b[39;00m \u001b[38;5;28mself\u001b[39m.parser.lazy_parse(blob)\n",
      "\u001b[36mFile \u001b[39m\u001b[32mc:\\Users\\ual-laptop\\AI&XRStudio\\New\\SanoCare-AIHealthAssistant\\venv\\Lib\\site-packages\\langchain_community\\document_loaders\\parsers\\pdf.py:396\u001b[39m, in \u001b[36mPyPDFParser.lazy_parse\u001b[39m\u001b[34m(self, blob)\u001b[39m\n\u001b[32m    394\u001b[39m single_texts = []\n\u001b[32m    395\u001b[39m \u001b[38;5;28;01mfor\u001b[39;00m page_number, page \u001b[38;5;129;01min\u001b[39;00m \u001b[38;5;28menumerate\u001b[39m(pdf_reader.pages):\n\u001b[32m--> \u001b[39m\u001b[32m396\u001b[39m     text_from_page = \u001b[43m_extract_text_from_page\u001b[49m\u001b[43m(\u001b[49m\u001b[43mpage\u001b[49m\u001b[43m=\u001b[49m\u001b[43mpage\u001b[49m\u001b[43m)\u001b[49m\n\u001b[32m    397\u001b[39m     images_from_page = \u001b[38;5;28mself\u001b[39m.extract_images_from_page(page)\n\u001b[32m    398\u001b[39m     all_text = _merge_text_and_extras(\n\u001b[32m    399\u001b[39m         [images_from_page], text_from_page\n\u001b[32m    400\u001b[39m     ).strip()\n",
      "\u001b[36mFile \u001b[39m\u001b[32mc:\\Users\\ual-laptop\\AI&XRStudio\\New\\SanoCare-AIHealthAssistant\\venv\\Lib\\site-packages\\langchain_community\\document_loaders\\parsers\\pdf.py:378\u001b[39m, in \u001b[36mPyPDFParser.lazy_parse.<locals>._extract_text_from_page\u001b[39m\u001b[34m(page)\u001b[39m\n\u001b[32m    376\u001b[39m     \u001b[38;5;28;01mreturn\u001b[39;00m page.extract_text()\n\u001b[32m    377\u001b[39m \u001b[38;5;28;01melse\u001b[39;00m:\n\u001b[32m--> \u001b[39m\u001b[32m378\u001b[39m     \u001b[38;5;28;01mreturn\u001b[39;00m \u001b[43mpage\u001b[49m\u001b[43m.\u001b[49m\u001b[43mextract_text\u001b[49m\u001b[43m(\u001b[49m\n\u001b[32m    379\u001b[39m \u001b[43m        \u001b[49m\u001b[43mextraction_mode\u001b[49m\u001b[43m=\u001b[49m\u001b[38;5;28;43mself\u001b[39;49m\u001b[43m.\u001b[49m\u001b[43mextraction_mode\u001b[49m\u001b[43m,\u001b[49m\n\u001b[32m    380\u001b[39m \u001b[43m        \u001b[49m\u001b[43m*\u001b[49m\u001b[43m*\u001b[49m\u001b[38;5;28;43mself\u001b[39;49m\u001b[43m.\u001b[49m\u001b[43mextraction_kwargs\u001b[49m\u001b[43m,\u001b[49m\n\u001b[32m    381\u001b[39m \u001b[43m    \u001b[49m\u001b[43m)\u001b[49m\n",
      "\u001b[36mFile \u001b[39m\u001b[32mc:\\Users\\ual-laptop\\AI&XRStudio\\New\\SanoCare-AIHealthAssistant\\venv\\Lib\\site-packages\\pypdf\\_page.py:2378\u001b[39m, in \u001b[36mPageObject.extract_text\u001b[39m\u001b[34m(self, orientations, space_width, visitor_operand_before, visitor_operand_after, visitor_text, extraction_mode, *args, **kwargs)\u001b[39m\n\u001b[32m   2375\u001b[39m \u001b[38;5;28;01mif\u001b[39;00m \u001b[38;5;28misinstance\u001b[39m(orientations, \u001b[38;5;28mint\u001b[39m):\n\u001b[32m   2376\u001b[39m     orientations = (orientations,)\n\u001b[32m-> \u001b[39m\u001b[32m2378\u001b[39m \u001b[38;5;28;01mreturn\u001b[39;00m \u001b[38;5;28;43mself\u001b[39;49m\u001b[43m.\u001b[49m\u001b[43m_extract_text\u001b[49m\u001b[43m(\u001b[49m\n\u001b[32m   2379\u001b[39m \u001b[43m    \u001b[49m\u001b[38;5;28;43mself\u001b[39;49m\u001b[43m,\u001b[49m\n\u001b[32m   2380\u001b[39m \u001b[43m    \u001b[49m\u001b[38;5;28;43mself\u001b[39;49m\u001b[43m.\u001b[49m\u001b[43mpdf\u001b[49m\u001b[43m,\u001b[49m\n\u001b[32m   2381\u001b[39m \u001b[43m    \u001b[49m\u001b[43morientations\u001b[49m\u001b[43m,\u001b[49m\n\u001b[32m   2382\u001b[39m \u001b[43m    \u001b[49m\u001b[43mspace_width\u001b[49m\u001b[43m,\u001b[49m\n\u001b[32m   2383\u001b[39m \u001b[43m    \u001b[49m\u001b[43mPG\u001b[49m\u001b[43m.\u001b[49m\u001b[43mCONTENTS\u001b[49m\u001b[43m,\u001b[49m\n\u001b[32m   2384\u001b[39m \u001b[43m    \u001b[49m\u001b[43mvisitor_operand_before\u001b[49m\u001b[43m,\u001b[49m\n\u001b[32m   2385\u001b[39m \u001b[43m    \u001b[49m\u001b[43mvisitor_operand_after\u001b[49m\u001b[43m,\u001b[49m\n\u001b[32m   2386\u001b[39m \u001b[43m    \u001b[49m\u001b[43mvisitor_text\u001b[49m\u001b[43m,\u001b[49m\n\u001b[32m   2387\u001b[39m \u001b[43m\u001b[49m\u001b[43m)\u001b[49m\n",
      "\u001b[36mFile \u001b[39m\u001b[32mc:\\Users\\ual-laptop\\AI&XRStudio\\New\\SanoCare-AIHealthAssistant\\venv\\Lib\\site-packages\\pypdf\\_page.py:2121\u001b[39m, in \u001b[36mPageObject._extract_text\u001b[39m\u001b[34m(self, obj, pdf, orientations, space_width, content_key, visitor_operand_before, visitor_operand_after, visitor_text)\u001b[39m\n\u001b[32m   2119\u001b[39m xobj = resources_dict[\u001b[33m\"\u001b[39m\u001b[33m/XObject\u001b[39m\u001b[33m\"\u001b[39m]\n\u001b[32m   2120\u001b[39m \u001b[38;5;28;01mif\u001b[39;00m xobj[operands[\u001b[32m0\u001b[39m]][\u001b[33m\"\u001b[39m\u001b[33m/Subtype\u001b[39m\u001b[33m\"\u001b[39m] != \u001b[33m\"\u001b[39m\u001b[33m/Image\u001b[39m\u001b[33m\"\u001b[39m:  \u001b[38;5;66;03m# type: ignore\u001b[39;00m\n\u001b[32m-> \u001b[39m\u001b[32m2121\u001b[39m     text = \u001b[38;5;28;43mself\u001b[39;49m\u001b[43m.\u001b[49m\u001b[43mextract_xform_text\u001b[49m\u001b[43m(\u001b[49m\n\u001b[32m   2122\u001b[39m \u001b[43m        \u001b[49m\u001b[43mxobj\u001b[49m\u001b[43m[\u001b[49m\u001b[43moperands\u001b[49m\u001b[43m[\u001b[49m\u001b[32;43m0\u001b[39;49m\u001b[43m]\u001b[49m\u001b[43m]\u001b[49m\u001b[43m,\u001b[49m\u001b[43m  \u001b[49m\u001b[38;5;66;43;03m# type: ignore\u001b[39;49;00m\n\u001b[32m   2123\u001b[39m \u001b[43m        \u001b[49m\u001b[43morientations\u001b[49m\u001b[43m,\u001b[49m\n\u001b[32m   2124\u001b[39m \u001b[43m        \u001b[49m\u001b[43mspace_width\u001b[49m\u001b[43m,\u001b[49m\n\u001b[32m   2125\u001b[39m \u001b[43m        \u001b[49m\u001b[43mvisitor_operand_before\u001b[49m\u001b[43m,\u001b[49m\n\u001b[32m   2126\u001b[39m \u001b[43m        \u001b[49m\u001b[43mvisitor_operand_after\u001b[49m\u001b[43m,\u001b[49m\n\u001b[32m   2127\u001b[39m \u001b[43m        \u001b[49m\u001b[43mvisitor_text\u001b[49m\u001b[43m,\u001b[49m\n\u001b[32m   2128\u001b[39m \u001b[43m    \u001b[49m\u001b[43m)\u001b[49m\n\u001b[32m   2129\u001b[39m     output += text\n\u001b[32m   2130\u001b[39m     \u001b[38;5;28;01mif\u001b[39;00m visitor_text \u001b[38;5;129;01mis\u001b[39;00m \u001b[38;5;129;01mnot\u001b[39;00m \u001b[38;5;28;01mNone\u001b[39;00m:\n",
      "\u001b[36mFile \u001b[39m\u001b[32mc:\\Users\\ual-laptop\\AI&XRStudio\\New\\SanoCare-AIHealthAssistant\\venv\\Lib\\site-packages\\pypdf\\_page.py:2413\u001b[39m, in \u001b[36mPageObject.extract_xform_text\u001b[39m\u001b[34m(self, xform, orientations, space_width, visitor_operand_before, visitor_operand_after, visitor_text)\u001b[39m\n\u001b[32m   2389\u001b[39m \u001b[38;5;28;01mdef\u001b[39;00m\u001b[38;5;250m \u001b[39m\u001b[34mextract_xform_text\u001b[39m(\n\u001b[32m   2390\u001b[39m     \u001b[38;5;28mself\u001b[39m,\n\u001b[32m   2391\u001b[39m     xform: EncodedStreamObject,\n\u001b[32m   (...)\u001b[39m\u001b[32m   2396\u001b[39m     visitor_text: Optional[Callable[[Any, Any, Any, Any, Any], \u001b[38;5;28;01mNone\u001b[39;00m]] = \u001b[38;5;28;01mNone\u001b[39;00m,\n\u001b[32m   2397\u001b[39m ) -> \u001b[38;5;28mstr\u001b[39m:\n\u001b[32m   2398\u001b[39m \u001b[38;5;250m    \u001b[39m\u001b[33;03m\"\"\"\u001b[39;00m\n\u001b[32m   2399\u001b[39m \u001b[33;03m    Extract text from an XObject.\u001b[39;00m\n\u001b[32m   2400\u001b[39m \n\u001b[32m   (...)\u001b[39m\u001b[32m   2411\u001b[39m \n\u001b[32m   2412\u001b[39m \u001b[33;03m    \"\"\"\u001b[39;00m\n\u001b[32m-> \u001b[39m\u001b[32m2413\u001b[39m     \u001b[38;5;28;01mreturn\u001b[39;00m \u001b[38;5;28;43mself\u001b[39;49m\u001b[43m.\u001b[49m\u001b[43m_extract_text\u001b[49m\u001b[43m(\u001b[49m\n\u001b[32m   2414\u001b[39m \u001b[43m        \u001b[49m\u001b[43mxform\u001b[49m\u001b[43m,\u001b[49m\n\u001b[32m   2415\u001b[39m \u001b[43m        \u001b[49m\u001b[38;5;28;43mself\u001b[39;49m\u001b[43m.\u001b[49m\u001b[43mpdf\u001b[49m\u001b[43m,\u001b[49m\n\u001b[32m   2416\u001b[39m \u001b[43m        \u001b[49m\u001b[43morientations\u001b[49m\u001b[43m,\u001b[49m\n\u001b[32m   2417\u001b[39m \u001b[43m        \u001b[49m\u001b[43mspace_width\u001b[49m\u001b[43m,\u001b[49m\n\u001b[32m   2418\u001b[39m \u001b[43m        \u001b[49m\u001b[38;5;28;43;01mNone\u001b[39;49;00m\u001b[43m,\u001b[49m\n\u001b[32m   2419\u001b[39m \u001b[43m        \u001b[49m\u001b[43mvisitor_operand_before\u001b[49m\u001b[43m,\u001b[49m\n\u001b[32m   2420\u001b[39m \u001b[43m        \u001b[49m\u001b[43mvisitor_operand_after\u001b[49m\u001b[43m,\u001b[49m\n\u001b[32m   2421\u001b[39m \u001b[43m        \u001b[49m\u001b[43mvisitor_text\u001b[49m\u001b[43m,\u001b[49m\n\u001b[32m   2422\u001b[39m \u001b[43m    \u001b[49m\u001b[43m)\u001b[49m\n",
      "\u001b[36mFile \u001b[39m\u001b[32mc:\\Users\\ual-laptop\\AI&XRStudio\\New\\SanoCare-AIHealthAssistant\\venv\\Lib\\site-packages\\pypdf\\_page.py:1874\u001b[39m, in \u001b[36mPageObject._extract_text\u001b[39m\u001b[34m(self, obj, pdf, orientations, space_width, content_key, visitor_operand_before, visitor_operand_after, visitor_text)\u001b[39m\n\u001b[32m   1870\u001b[39m     content = (\n\u001b[32m   1871\u001b[39m         obj[content_key].get_object() \u001b[38;5;28;01mif\u001b[39;00m \u001b[38;5;28misinstance\u001b[39m(content_key, \u001b[38;5;28mstr\u001b[39m) \u001b[38;5;28;01melse\u001b[39;00m obj\n\u001b[32m   1872\u001b[39m     )\n\u001b[32m   1873\u001b[39m     \u001b[38;5;28;01mif\u001b[39;00m \u001b[38;5;129;01mnot\u001b[39;00m \u001b[38;5;28misinstance\u001b[39m(content, ContentStream):\n\u001b[32m-> \u001b[39m\u001b[32m1874\u001b[39m         content = \u001b[43mContentStream\u001b[49m\u001b[43m(\u001b[49m\u001b[43mcontent\u001b[49m\u001b[43m,\u001b[49m\u001b[43m \u001b[49m\u001b[43mpdf\u001b[49m\u001b[43m,\u001b[49m\u001b[43m \u001b[49m\u001b[33;43m\"\u001b[39;49m\u001b[33;43mbytes\u001b[39;49m\u001b[33;43m\"\u001b[39;49m\u001b[43m)\u001b[49m\n\u001b[32m   1875\u001b[39m \u001b[38;5;28;01mexcept\u001b[39;00m \u001b[38;5;167;01mKeyError\u001b[39;00m:  \u001b[38;5;66;03m# no content can be extracted (certainly empty page)\u001b[39;00m\n\u001b[32m   1876\u001b[39m     \u001b[38;5;28;01mreturn\u001b[39;00m \u001b[33m\"\u001b[39m\u001b[33m\"\u001b[39m\n",
      "\u001b[36mFile \u001b[39m\u001b[32mc:\\Users\\ual-laptop\\AI&XRStudio\\New\\SanoCare-AIHealthAssistant\\venv\\Lib\\site-packages\\pypdf\\generic\\_data_structures.py:1198\u001b[39m, in \u001b[36mContentStream.__init__\u001b[39m\u001b[34m(self, stream, pdf, forced_encoding)\u001b[39m\n\u001b[32m   1196\u001b[39m     \u001b[38;5;28msuper\u001b[39m().set_data(\u001b[38;5;28mbytes\u001b[39m(data))\n\u001b[32m   1197\u001b[39m \u001b[38;5;28;01melse\u001b[39;00m:\n\u001b[32m-> \u001b[39m\u001b[32m1198\u001b[39m     stream_data = \u001b[43mstream\u001b[49m\u001b[43m.\u001b[49m\u001b[43mget_data\u001b[49m\u001b[43m(\u001b[49m\u001b[43m)\u001b[49m\n\u001b[32m   1199\u001b[39m     \u001b[38;5;28;01massert\u001b[39;00m stream_data \u001b[38;5;129;01mis\u001b[39;00m \u001b[38;5;129;01mnot\u001b[39;00m \u001b[38;5;28;01mNone\u001b[39;00m\n\u001b[32m   1200\u001b[39m     \u001b[38;5;28msuper\u001b[39m().set_data(stream_data)\n",
      "\u001b[36mFile \u001b[39m\u001b[32mc:\\Users\\ual-laptop\\AI&XRStudio\\New\\SanoCare-AIHealthAssistant\\venv\\Lib\\site-packages\\pypdf\\generic\\_data_structures.py:1114\u001b[39m, in \u001b[36mEncodedStreamObject.get_data\u001b[39m\u001b[34m(self)\u001b[39m\n\u001b[32m   1110\u001b[39m \u001b[38;5;28;01melse\u001b[39;00m:\n\u001b[32m   1111\u001b[39m     \u001b[38;5;66;03m# create decoded object\u001b[39;00m\n\u001b[32m   1112\u001b[39m     decoded = DecodedStreamObject()\n\u001b[32m-> \u001b[39m\u001b[32m1114\u001b[39m     decoded.set_data(\u001b[43mdecode_stream_data\u001b[49m\u001b[43m(\u001b[49m\u001b[38;5;28;43mself\u001b[39;49m\u001b[43m)\u001b[49m)\n\u001b[32m   1115\u001b[39m     \u001b[38;5;28;01mfor\u001b[39;00m key, value \u001b[38;5;129;01min\u001b[39;00m \u001b[38;5;28mlist\u001b[39m(\u001b[38;5;28mself\u001b[39m.items()):\n\u001b[32m   1116\u001b[39m         \u001b[38;5;28;01mif\u001b[39;00m key \u001b[38;5;129;01mnot\u001b[39;00m \u001b[38;5;129;01min\u001b[39;00m (SA.LENGTH, SA.FILTER, SA.DECODE_PARMS):\n",
      "\u001b[36mFile \u001b[39m\u001b[32mc:\\Users\\ual-laptop\\AI&XRStudio\\New\\SanoCare-AIHealthAssistant\\venv\\Lib\\site-packages\\pypdf\\filters.py:657\u001b[39m, in \u001b[36mdecode_stream_data\u001b[39m\u001b[34m(stream)\u001b[39m\n\u001b[32m    655\u001b[39m     data = LZWDecode._decodeb(data, params)\n\u001b[32m    656\u001b[39m \u001b[38;5;28;01melif\u001b[39;00m filter_name \u001b[38;5;129;01min\u001b[39;00m (FT.FLATE_DECODE, FTA.FL):\n\u001b[32m--> \u001b[39m\u001b[32m657\u001b[39m     data = \u001b[43mFlateDecode\u001b[49m\u001b[43m.\u001b[49m\u001b[43mdecode\u001b[49m\u001b[43m(\u001b[49m\u001b[43mdata\u001b[49m\u001b[43m,\u001b[49m\u001b[43m \u001b[49m\u001b[43mparams\u001b[49m\u001b[43m)\u001b[49m\n\u001b[32m    658\u001b[39m \u001b[38;5;28;01melif\u001b[39;00m filter_name \u001b[38;5;129;01min\u001b[39;00m (FT.RUN_LENGTH_DECODE, FTA.RL):\n\u001b[32m    659\u001b[39m     data = RunLengthDecode.decode(data)\n",
      "\u001b[36mFile \u001b[39m\u001b[32mc:\\Users\\ual-laptop\\AI&XRStudio\\New\\SanoCare-AIHealthAssistant\\venv\\Lib\\site-packages\\pypdf\\filters.py:126\u001b[39m, in \u001b[36mFlateDecode.decode\u001b[39m\u001b[34m(data, decode_parms, **kwargs)\u001b[39m\n\u001b[32m    123\u001b[39m \u001b[38;5;28;01mif\u001b[39;00m \u001b[38;5;28misinstance\u001b[39m(decode_parms, ArrayObject):\n\u001b[32m    124\u001b[39m     \u001b[38;5;28;01mraise\u001b[39;00m DeprecationError(\u001b[33m\"\u001b[39m\u001b[33mdecode_parms as ArrayObject is deprecated\u001b[39m\u001b[33m\"\u001b[39m)\n\u001b[32m--> \u001b[39m\u001b[32m126\u001b[39m str_data = \u001b[43mdecompress\u001b[49m\u001b[43m(\u001b[49m\u001b[43mdata\u001b[49m\u001b[43m)\u001b[49m\n\u001b[32m    127\u001b[39m predictor = \u001b[32m1\u001b[39m\n\u001b[32m    129\u001b[39m \u001b[38;5;28;01mif\u001b[39;00m decode_parms:\n",
      "\u001b[36mFile \u001b[39m\u001b[32mc:\\Users\\ual-laptop\\AI&XRStudio\\New\\SanoCare-AIHealthAssistant\\venv\\Lib\\site-packages\\pypdf\\filters.py:84\u001b[39m, in \u001b[36mdecompress\u001b[39m\u001b[34m(data)\u001b[39m\n\u001b[32m     69\u001b[39m \u001b[38;5;250m\u001b[39m\u001b[33;03m\"\"\"\u001b[39;00m\n\u001b[32m     70\u001b[39m \u001b[33;03mDecompress the given data using zlib.\u001b[39;00m\n\u001b[32m     71\u001b[39m \n\u001b[32m   (...)\u001b[39m\u001b[32m     81\u001b[39m \n\u001b[32m     82\u001b[39m \u001b[33;03m\"\"\"\u001b[39;00m\n\u001b[32m     83\u001b[39m \u001b[38;5;28;01mtry\u001b[39;00m:\n\u001b[32m---> \u001b[39m\u001b[32m84\u001b[39m     \u001b[38;5;28;01mreturn\u001b[39;00m \u001b[43mzlib\u001b[49m\u001b[43m.\u001b[49m\u001b[43mdecompress\u001b[49m\u001b[43m(\u001b[49m\u001b[43mdata\u001b[49m\u001b[43m)\u001b[49m\n\u001b[32m     85\u001b[39m \u001b[38;5;28;01mexcept\u001b[39;00m zlib.error:\n\u001b[32m     86\u001b[39m     \u001b[38;5;28;01mtry\u001b[39;00m:\n\u001b[32m     87\u001b[39m         \u001b[38;5;66;03m# For larger files, use decompression object to enable buffered reading\u001b[39;00m\n",
      "\u001b[31mKeyboardInterrupt\u001b[39m: "
     ]
    }
   ],
   "source": [
    "extracted_data=load_pdf_file(data='C:/Users/ual-laptop/AI&XRStudio/New/SanoCare-AIHealthAssistant/Data/')"
   ]
  },
  {
   "cell_type": "code",
   "execution_count": null,
   "metadata": {},
   "outputs": [],
   "source": [
    "#extracted_data"
   ]
  },
  {
   "cell_type": "code",
   "execution_count": 62,
   "metadata": {},
   "outputs": [],
   "source": [
    "def text_split(extracted_data):\n",
    "    text_splitter=RecursiveCharacterTextSplitter(chunk_size=500,chunk_overlap=20)\n",
    "    text_chunks=text_splitter.split_documents(extracted_data)\n",
    "    return text_chunks"
   ]
  },
  {
   "cell_type": "code",
   "execution_count": null,
   "metadata": {},
   "outputs": [],
   "source": [
    "text_chunks = text_split(extracted_data)\n",
    "len(text_chunks)"
   ]
  },
  {
   "cell_type": "code",
   "execution_count": null,
   "metadata": {},
   "outputs": [],
   "source": [
    "def download_hugging_face_embeddings():\n",
    "    embeddings = HuggingFaceEmbeddings(model_name='sentence-transformers/all-MiniLM-L6-v2')\n",
    "    return embeddings\n",
    "\n",
    "\n",
    "\n"
   ]
  },
  {
   "cell_type": "code",
   "execution_count": 64,
   "metadata": {},
   "outputs": [],
   "source": [
    "embeddings = download_hugging_face_embeddings()"
   ]
  },
  {
   "cell_type": "code",
   "execution_count": 4,
   "metadata": {},
   "outputs": [
    {
     "data": {
      "text/plain": [
       "True"
      ]
     },
     "execution_count": 4,
     "metadata": {},
     "output_type": "execute_result"
    }
   ],
   "source": [
    "from dotenv import load_dotenv\n",
    "load_dotenv()"
   ]
  },
  {
   "cell_type": "code",
   "execution_count": 66,
   "metadata": {},
   "outputs": [
    {
     "data": {
      "text/plain": [
       "'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'"
      ]
     },
     "execution_count": 66,
     "metadata": {},
     "output_type": "execute_result"
    }
   ],
   "source": [
    "PINECONE_API_KEY= os.getenv('PINECONE_API_KEY')\n",
    "GROQ_API_KEY= os.getenv('GROQ_API_KEY')\n",
    "\n",
    "GROQ_API_KEY"
   ]
  },
  {
   "cell_type": "code",
   "execution_count": 67,
   "metadata": {},
   "outputs": [],
   "source": [
    "from pinecone import Pinecone, ServerlessSpec\n",
    "\n",
    "pc = Pinecone(api_key=PINECONE_API_KEY)"
   ]
  },
  {
   "cell_type": "code",
   "execution_count": 68,
   "metadata": {},
   "outputs": [],
   "source": [
    "index_name = \"sanocare\""
   ]
  },
  {
   "cell_type": "code",
   "execution_count": 69,
   "metadata": {},
   "outputs": [],
   "source": [
    "os.environ[\"PINECONE_API_KEY\"] = PINECONE_API_KEY\n",
    "os.environ[\"GROQ_API_KEY\"] = GROQ_API_KEY"
   ]
  },
  {
   "cell_type": "code",
   "execution_count": 71,
   "metadata": {},
   "outputs": [],
   "source": [
    "from langchain_pinecone import PineconeVectorStore\n",
    "docsearch = PineconeVectorStore.from_existing_index(\n",
    "    index_name=index_name,\n",
    "    embedding=embeddings\n",
    ") "
   ]
  },
  {
   "cell_type": "code",
   "execution_count": 72,
   "metadata": {},
   "outputs": [
    {
     "data": {
      "text/plain": [
       "<langchain_pinecone.vectorstores.PineconeVectorStore at 0x2ba832e3cb0>"
      ]
     },
     "execution_count": 72,
     "metadata": {},
     "output_type": "execute_result"
    }
   ],
   "source": [
    "docsearch"
   ]
  },
  {
   "cell_type": "code",
   "execution_count": 73,
   "metadata": {},
   "outputs": [],
   "source": [
    "retriever= docsearch.as_retriever(search_type=\"similarity\",search_kwargs={\"k\":3})"
   ]
  },
  {
   "cell_type": "code",
   "execution_count": 74,
   "metadata": {},
   "outputs": [],
   "source": [
    "retrieved_docs = retriever.invoke(\"What is angioplasty?\")"
   ]
  },
  {
   "cell_type": "code",
   "execution_count": 75,
   "metadata": {},
   "outputs": [
    {
     "data": {
      "text/plain": [
       "[Document(id='349a573f-0304-43d5-a057-f17490e4c04d', metadata={'creationdate': '2006-10-16T20:19:33+02:00', 'creator': 'Adobe Acrobat 6.0', 'moddate': '2006-10-16T22:03:45+02:00', 'page': 241.0, 'page_label': '212', 'producer': 'PDFlib+PDI 6.0.3 (SunOS)', 'source': 'Data\\\\The-Gale-Encyclopedia-of-Medicine.pdf', 'total_pages': 4505.0}, page_content='mia) or an irregular placement or location of blood\\nvessels. The results of an angiography vary widely by\\nthe type of procedure performed, and should be inter-\\npreted and explained to the patient by a trained\\nradiologist.\\nResources\\nBOOKS\\nBaum, Stanley, and Michael J. Pentecost, editors.Abrams’\\nAngiography. 4th ed. Philadelphia: Lippincott-Raven,\\n1996.\\nPaula Anne Ford-Martin\\nAngiomas see Birthmarks\\nAngioplasty\\nDefinition\\nAngioplasty is a term describing a procedure used'),\n",
       " Document(id='b4ac9980-d0c9-416f-a591-6321f56afb73', metadata={'creationdate': '2006-10-16T20:19:33+02:00', 'creator': 'Adobe Acrobat 6.0', 'moddate': '2006-10-16T22:03:45+02:00', 'page': 241.0, 'page_label': '212', 'producer': 'PDFlib+PDI 6.0.3 (SunOS)', 'source': 'Data\\\\The-Gale-Encyclopedia-of-Medicine.pdf', 'total_pages': 4505.0}, page_content='mia) or an irregular placement or location of blood\\nvessels. The results of an angiography vary widely by\\nthe type of procedure performed, and should be inter-\\npreted and explained to the patient by a trained\\nradiologist.\\nResources\\nBOOKS\\nBaum, Stanley, and Michael J. Pentecost, editors.Abrams’\\nAngiography. 4th ed. Philadelphia: Lippincott-Raven,\\n1996.\\nPaula Anne Ford-Martin\\nAngiomas see Birthmarks\\nAngioplasty\\nDefinition\\nAngioplasty is a term describing a procedure used'),\n",
       " Document(id='4517d950-d4a5-44ce-ab92-2e8d79ee6ffb', metadata={'creationdate': '2006-10-16T20:19:33+02:00', 'creator': 'Adobe Acrobat 6.0', 'moddate': '2006-10-16T22:03:45+02:00', 'page': 3940.0, 'page_label': '3911', 'producer': 'PDFlib+PDI 6.0.3 (SunOS)', 'source': 'Data\\\\The-Gale-Encyclopedia-of-Medicine.pdf', 'total_pages': 4505.0}, page_content='KEY TERMS\\nAngioplasty— A surgical procedure which dilates a\\nnarrowed or blocked part of an artery.\\nAortic stenosis— A stiffening of the artery which\\ncarries blood from the heart to the body.\\nBeta-blockers— A class of medication used to\\nblock the cellular response to chemicals normally\\npresent in the body.\\nCoronary artery— The vessel which brings blood to\\nthe muscle of the heart.\\nFibrillation— Rapid, uncoordinated quivering of\\nthe heart.\\nHeart failure— A term used when the heart is')]"
      ]
     },
     "execution_count": 75,
     "metadata": {},
     "output_type": "execute_result"
    }
   ],
   "source": [
    "retrieved_docs"
   ]
  },
  {
   "cell_type": "code",
   "execution_count": 76,
   "metadata": {},
   "outputs": [],
   "source": [
    "from langchain.chat_models import init_chat_model\n",
    "\n",
    "llm = init_chat_model(\"llama-3.3-70b-versatile\", model_provider=\"groq\")"
   ]
  },
  {
   "cell_type": "code",
   "execution_count": 77,
   "metadata": {},
   "outputs": [],
   "source": [
    "from langchain.chains import create_retrieval_chain\n",
    "from langchain.chains.combine_documents import create_stuff_documents_chain\n",
    "from langchain_core.prompts import ChatPromptTemplate"
   ]
  },
  {
   "cell_type": "code",
   "execution_count": 1,
   "metadata": {},
   "outputs": [
    {
     "name": "stdout",
     "output_type": "stream",
     "text": [
      "['imr', 'MORTADO', 'nmr', 'MDG_0000000001', 'CHILDMORT5TO14', 'MDG_0000000026', 'MDG_0000000032', 'MDG_0000000007', 'SA_0000001472', 'SA_0000001473', 'SDGWSHBOD', 'SDGPOISON', 'SDGROADAGE', 'u5mr', 'WHS2_161', 'WHS2_131', 'WHS2_160', 'WHOSIS_000004', 'WHS10_4', 'WHS10_5', 'WHOSIS_000003', 'GHE_YLLNUM', 'GHE_YLLRATE', 'NCD_CCS_MORT_TARGET', 'WHOSIS_000016', 'PRISON_D3_DEATHS_SUICIDE_MRATE', 'PRISON_D3_DEATHS_COVID_MRATE', 'CHILDMORT10TO19', 'MALARIA_EST_MORTALITY', 'CHILDMORT_MORTALITY_10TO14', 'GHE_YLL_NUMERIC', 'PRISON_D3_DEATHS_DRUG_MRATE']\n"
     ]
    }
   ],
   "source": [
    "import requests\n",
    "\n",
    "# Step 1: List all valid mortality-related indicators\n",
    "indicators = requests.get(\"https://ghoapi.azureedge.net/api/Indicator\").json()\n",
    "filtered = [ind for ind in indicators[\"value\"] if \"mortality\" in ind[\"IndicatorName\"].lower()]\n",
    "print([ind[\"IndicatorCode\"] for ind in filtered])"
   ]
  },
  {
   "cell_type": "code",
   "execution_count": 5,
   "metadata": {},
   "outputs": [
    {
     "name": "stdout",
     "output_type": "stream",
     "text": [
      "OpenAI Key Present: True\n"
     ]
    }
   ],
   "source": [
    "import os\n",
    "print(\"OpenAI Key Present:\", \"OPENAI_API_KEY\" in os.environ)"
   ]
  },
  {
   "cell_type": "code",
   "execution_count": 7,
   "metadata": {},
   "outputs": [
    {
     "name": "stdout",
     "output_type": "stream",
     "text": [
      "\n",
      "2. File scan:\n",
      "No OpenAI references found\n"
     ]
    }
   ],
   "source": [
    "from pathlib import Path\n",
    "\n",
    "\n",
    "print(\"\\n2. File scan:\")\n",
    "found = False\n",
    "for f in Path('.').rglob('*'):\n",
    "    if f.suffix in ('.py', '.env', '.ipynb'):\n",
    "        try:\n",
    "            content = f.read_text()\n",
    "            if 'openai' in content.lower():\n",
    "                print(f\"⚠️ OpenAI reference found in: {f}\")\n",
    "                found = True\n",
    "        except:\n",
    "            continue\n",
    "print(\"No OpenAI references found\" if not found else \"\")"
   ]
  },
  {
   "cell_type": "code",
   "execution_count": 10,
   "metadata": {},
   "outputs": [
    {
     "name": "stdout",
     "output_type": "stream",
     "text": [
      "\n",
      "3. Installed packages:\n"
     ]
    },
    {
     "name": "stdout",
     "output_type": "stream",
     "text": [
      "Package                   Version\n",
      "------------------------- -----------\n",
      "aiohappyeyeballs          2.6.1\n",
      "aiohttp                   3.10.11\n",
      "aiosignal                 1.3.2\n",
      "annotated-types           0.7.0\n",
      "anyio                     4.9.0\n",
      "asttokens                 3.0.0\n",
      "attrs                     25.3.0\n",
      "blinker                   1.9.0\n",
      "certifi                   2025.1.31\n",
      "cffi                      1.17.1\n",
      "charset-normalizer        3.4.1\n",
      "click                     8.1.8\n",
      "colorama                  0.4.6\n",
      "comm                      0.2.2\n",
      "dataclasses-json          0.6.7\n",
      "debugpy                   1.8.13\n",
      "decorator                 5.2.1\n",
      "distro                    1.9.0\n",
      "dotenv-python             0.0.1\n",
      "executing                 2.2.0\n",
      "filelock                  3.18.0\n",
      "Flask                     3.1.0\n",
      "frozenlist                1.5.0\n",
      "fsspec                    2025.3.0\n",
      "greenlet                  3.1.1\n",
      "groq                      0.19.0\n",
      "h11                       0.14.0\n",
      "httpcore                  1.0.7\n",
      "httpx                     0.28.1\n",
      "httpx-sse                 0.4.0\n",
      "huggingface-hub           0.29.3\n",
      "idna                      3.10\n",
      "iniconfig                 2.0.0\n",
      "ipykernel                 6.29.5\n",
      "ipython                   9.0.2\n",
      "ipython_pygments_lexers   1.1.1\n",
      "itsdangerous              2.2.0\n",
      "jedi                      0.19.2\n",
      "Jinja2                    3.1.6\n",
      "jiter                     0.9.0\n",
      "joblib                    1.4.2\n",
      "jsonpatch                 1.33\n",
      "jsonpointer               3.0.0\n",
      "jupyter_client            8.6.3\n",
      "jupyter_core              5.7.2\n",
      "langchain                 0.3.20\n",
      "langchain-community       0.3.19\n",
      "langchain-core            0.3.45\n",
      "langchain-groq            0.2.5\n",
      "langchain-openai          0.3.9\n",
      "langchain-pinecone        0.2.3\n",
      "langchain-tests           0.3.14\n",
      "langchain-text-splitters  0.3.6\n",
      "langsmith                 0.3.15\n",
      "MarkupSafe                3.0.2\n",
      "marshmallow               3.26.1\n",
      "matplotlib-inline         0.1.7\n",
      "mpmath                    1.3.0\n",
      "multidict                 6.2.0\n",
      "mypy-extensions           1.0.0\n",
      "nest-asyncio              1.6.0\n",
      "networkx                  3.4.2\n",
      "numpy                     2.2.4\n",
      "openai                    1.68.0\n",
      "orjson                    3.10.15\n",
      "packaging                 24.2\n",
      "parso                     0.8.4\n",
      "pillow                    11.1.0\n",
      "pinecone                  5.4.2\n",
      "pinecone-plugin-inference 3.1.0\n",
      "pinecone-plugin-interface 0.0.7\n",
      "pip                       24.3.1\n",
      "platformdirs              4.3.6\n",
      "pluggy                    1.5.0\n",
      "prompt_toolkit            3.0.50\n",
      "propcache                 0.3.0\n",
      "psutil                    7.0.0\n",
      "pure_eval                 0.2.3\n",
      "pycparser                 2.22\n",
      "pydantic                  2.10.6\n",
      "pydantic_core             2.27.2\n",
      "pydantic-settings         2.8.1\n",
      "Pygments                  2.19.1\n",
      "pypdf                     5.4.0\n",
      "pytest                    8.3.5\n",
      "pytest-asyncio            0.25.3\n",
      "pytest-socket             0.7.0\n",
      "python-dateutil           2.9.0.post0\n",
      "python-dotenv             1.0.1\n",
      "pywin32                   310\n",
      "PyYAML                    6.0.2\n",
      "pyzmq                     26.3.0\n",
      "regex                     2024.11.6\n",
      "requests                  2.32.3\n",
      "requests-toolbelt         1.0.0\n",
      "safetensors               0.5.3\n",
      "scikit-learn              1.6.1\n",
      "scipy                     1.15.2\n",
      "sentence-transformers     3.4.1\n",
      "setuptools                76.0.0\n",
      "six                       1.17.0\n",
      "sniffio                   1.3.1\n",
      "sounddevice               0.5.1\n",
      "SQLAlchemy                2.0.39\n",
      "stack-data                0.6.3\n",
      "sympy                     1.13.1\n",
      "syrupy                    4.9.0\n",
      "tenacity                  9.0.0\n",
      "threadpoolctl             3.6.0\n",
      "tiktoken                  0.9.0\n",
      "tokenizers                0.21.1\n",
      "torch                     2.6.0\n",
      "tornado                   6.4.2\n",
      "tqdm                      4.67.1\n",
      "traitlets                 5.14.3\n",
      "transformers              4.49.0\n",
      "typing_extensions         4.12.2\n",
      "typing-inspect            0.9.0\n",
      "urllib3                   2.3.0\n",
      "wcwidth                   0.2.13\n",
      "Werkzeug                  3.1.3\n",
      "yarl                      1.18.3\n",
      "zstandard                 0.23.0\n"
     ]
    }
   ],
   "source": [
    "print(\"\\n3. Installed packages:\")\n",
    "!pip list "
   ]
  },
  {
   "cell_type": "code",
   "execution_count": 79,
   "metadata": {},
   "outputs": [],
   "source": [
    "# system_prompt = (\n",
    "#     \"You are an AI Health Assistant designed to provide clear, empathetic, and\"\n",
    "#     \" informative responses across four categories: General Health, Symptoms Checker, Lifestyle, and Mental Health.\"\n",
    "#     \" Offer practical advice on wellness, symptom diagnosis and provide more suitable symptomn condition/disease based on the input, and support for mental well-being.\"\n",
    "#     \" Detect emergency keywords such as \\\"chest pain,\\\" \\\"difficulty breathing,\\\" or \\\"suicidal thoughts,\\\" and promptly advise users\"\n",
    "#     \" to seek immediate medical attention without providing direct medical instructions. Maintain a calm, supportive tone, avoid inducing \"\n",
    "#     \"fear, and emphasize that your guidance is informational and should not replace professional medical advice. If a user asks an unrelated\"\n",
    "#     \" question, politely redirect the conversation to health-related topics or offer clarification to understand their concern.\"\n",
    "#     \"Additionally whenever responding to the user make sure to carefully evaluate their level of communication (Are they sharing alot or they seem to be shy?) and then evaluate the response before sending it to them. Think about them their state of mind and then reply appropriately.\"\n",
    "#     \"Try mirroring your patient...if they short prompts try giving them shorter responses.\"\n",
    "#     \"\\n\\n\"\n",
    "#     \"{context}\"\n",
    "# )\n",
    "\n",
    "system_prompt = \"\"\"You are an AI Health Assistant designed to provide clear, empathetic, and informative responses across four categories: General Health, Symptoms Checker, Lifestyle, and Mental Health.\" \n",
    "Offer practical advice on wellness, symptom diagnosis and provide more suitable symptomn condition/disease based on the input, and support for mental well-being. \n",
    "Detect emergency keywords such as \\\"chest pain,\\\" \\\"difficulty breathing,\\\" or \\\"suicidal thoughts,\\\" and promptly advise users \n",
    "to seek immediate medical attention without providing direct medical instructions. Maintain a calm, supportive tone, avoid inducing fear, and emphasize that your guidance is informational and should not replace professional medical advice. \n",
    "If a user asks an unrelated question, politely redirect the conversation to health-related topics or offer clarification to understand their concern.\n",
    "Additionally whenever responding to the user make sure to carefully evaluate their level of communication (Are they sharing alot or they seem to be shy?) and then evaluate the response before sending it to them. Think about them their state of mind and then reply appropriately.\n",
    "Try mirroring your patient...if they short prompts try giving them shorter responses.\n",
    "\\n\\n\n",
    "{context}\n",
    "\"\"\""
   ]
  },
  {
   "cell_type": "code",
   "execution_count": 80,
   "metadata": {},
   "outputs": [],
   "source": [
    "\n",
    "prompt = ChatPromptTemplate.from_messages(\n",
    "    [\n",
    "        (\"system\", system_prompt),\n",
    "        (\"human\", \"{input}\"),\n",
    "    ]\n",
    ")"
   ]
  },
  {
   "cell_type": "code",
   "execution_count": 81,
   "metadata": {},
   "outputs": [],
   "source": [
    "question_answer_chain = create_stuff_documents_chain(llm, prompt)\n",
    "rag_chain = create_retrieval_chain(retriever, question_answer_chain)"
   ]
  },
  {
   "cell_type": "code",
   "execution_count": 82,
   "metadata": {},
   "outputs": [
    {
     "name": "stdout",
     "output_type": "stream",
     "text": [
      "Chest pain can be concerning. I want to help you, but I need to make sure you're safe. If you're experiencing severe chest pain, difficulty breathing, or other concerning symptoms, please seek immediate medical attention. Can you tell me more about your chest pain? Where is it located, and when did it start?\n"
     ]
    }
   ],
   "source": [
    "response = rag_chain.invoke({\"input\": \"I have chest pain\"})\n",
    "print(response[\"answer\"])"
   ]
  },
  {
   "cell_type": "code",
   "execution_count": null,
   "metadata": {},
   "outputs": [],
   "source": [
    "import os\n",
    "print(os.environ.get(\"GROQ_API_KEY\"))  # Should show your key"
   ]
  }
 ],
 "metadata": {
  "kernelspec": {
   "display_name": "venv",
   "language": "python",
   "name": "python3"
  },
  "language_info": {
   "codemirror_mode": {
    "name": "ipython",
    "version": 3
   },
   "file_extension": ".py",
   "mimetype": "text/x-python",
   "name": "python",
   "nbconvert_exporter": "python",
   "pygments_lexer": "ipython3",
   "version": "3.13.2"
  }
 },
 "nbformat": 4,
 "nbformat_minor": 2
}
